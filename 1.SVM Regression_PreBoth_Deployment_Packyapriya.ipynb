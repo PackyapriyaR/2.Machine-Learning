{
 "cells": [
  {
   "cell_type": "code",
   "execution_count": 41,
   "id": "f50625b0-04dc-4189-86bf-870edb88551f",
   "metadata": {},
   "outputs": [],
   "source": [
    "import pandas as pd"
   ]
  },
  {
   "cell_type": "code",
   "execution_count": 43,
   "id": "927809ed-9a65-468c-950c-e9422839a1f7",
   "metadata": {},
   "outputs": [],
   "source": [
    "dataset=pd.read_csv(\"50_Startups.csv\")"
   ]
  },
  {
   "cell_type": "code",
   "execution_count": 45,
   "id": "c33cb0b0-55ce-4947-b753-044f10c5b59a",
   "metadata": {},
   "outputs": [],
   "source": [
    "dataset=pd.get_dummies(dataset,drop_first=True)"
   ]
  },
  {
   "cell_type": "code",
   "execution_count": 47,
   "id": "415ed94d-c722-4bc5-91d3-35f324eded47",
   "metadata": {},
   "outputs": [],
   "source": [
    "dataset=dataset.astype(int)"
   ]
  },
  {
   "cell_type": "code",
   "execution_count": 49,
   "id": "5c84b0d1-84a9-4147-ac70-00fa95aa272a",
   "metadata": {},
   "outputs": [],
   "source": [
    "independent=dataset[['R&D Spend','Administration','Marketing Spend','State_Florida', 'State_New York']]"
   ]
  },
  {
   "cell_type": "code",
   "execution_count": 51,
   "id": "2456a4c3-0833-4f83-aa03-0974f601dddf",
   "metadata": {},
   "outputs": [],
   "source": [
    "dependent=dataset[['Profit']]"
   ]
  },
  {
   "cell_type": "code",
   "execution_count": 53,
   "id": "c743d53c-02b8-41d2-a605-a8b2646e0077",
   "metadata": {},
   "outputs": [],
   "source": [
    "from sklearn.model_selection import train_test_split\n",
    "[X_train,X_test,y_train,y_test]=train_test_split(independent,dependent,test_size=0.3,random_state=0)"
   ]
  },
  {
   "cell_type": "code",
   "execution_count": 55,
   "id": "8b5bd475-dcbb-4f19-9fcb-ef6aa8300af0",
   "metadata": {},
   "outputs": [],
   "source": [
    "#Standardisation of Dataset\n",
    "from sklearn.preprocessing import StandardScaler\n",
    "sc=StandardScaler()\n",
    "X_train=sc.fit_transform(X_train)\n",
    "X_test=sc.transform(X_test)"
   ]
  },
  {
   "cell_type": "code",
   "execution_count": 57,
   "id": "29edd506-7960-4472-ad16-1525a7cfd173",
   "metadata": {},
   "outputs": [],
   "source": [
    "scy=StandardScaler()\n",
    "y_train=scy.fit_transform(y_train)\n",
    "y_test=scy.transform(y_test)"
   ]
  },
  {
   "cell_type": "code",
   "execution_count": 59,
   "id": "1831b23c-5ccc-4bd8-9636-7aa52bb3e16d",
   "metadata": {},
   "outputs": [
    {
     "name": "stderr",
     "output_type": "stream",
     "text": [
      "C:\\Anaconda\\Lib\\site-packages\\sklearn\\base.py:493: UserWarning: X does not have valid feature names, but StandardScaler was fitted with feature names\n",
      "  warnings.warn(\n"
     ]
    }
   ],
   "source": [
    "preinput=sc.transform([[13000,4000,4000,0,1]])"
   ]
  },
  {
   "cell_type": "code",
   "execution_count": 61,
   "id": "38c6b0d3-5f5d-47db-acca-db8729ad5bdf",
   "metadata": {},
   "outputs": [
    {
     "data": {
      "text/plain": [
       "array([[-1.22773702, -4.64890103, -1.50743981, -0.5       ,  1.30088727]])"
      ]
     },
     "execution_count": 61,
     "metadata": {},
     "output_type": "execute_result"
    }
   ],
   "source": [
    "preinput"
   ]
  },
  {
   "cell_type": "code",
   "execution_count": 63,
   "id": "0663558c-8dd6-4191-8db7-63e6f509ebd7",
   "metadata": {},
   "outputs": [],
   "source": [
    "loaded_model=pickle.load(open(\"finalized_model_svm_preinput.sav\",'rb'))\n",
    "result=loaded_model.predict(preinput)"
   ]
  },
  {
   "cell_type": "code",
   "execution_count": 65,
   "id": "0f7ccef0-c611-478d-8645-fbbb63ec2d65",
   "metadata": {},
   "outputs": [
    {
     "data": {
      "text/plain": [
       "array([-1.27204495])"
      ]
     },
     "execution_count": 65,
     "metadata": {},
     "output_type": "execute_result"
    }
   ],
   "source": [
    "result"
   ]
  },
  {
   "cell_type": "code",
   "execution_count": 67,
   "id": "8dfc7550-db8c-4ad0-a9e6-ee6c411004c2",
   "metadata": {},
   "outputs": [],
   "source": [
    "preoutput=scy.inverse_transform([result])"
   ]
  },
  {
   "cell_type": "code",
   "execution_count": 69,
   "id": "87d667c2-f09f-43a8-b99b-7cbbb5aef541",
   "metadata": {},
   "outputs": [
    {
     "data": {
      "text/plain": [
       "array([[55510.65043417]])"
      ]
     },
     "execution_count": 69,
     "metadata": {},
     "output_type": "execute_result"
    }
   ],
   "source": [
    "preoutput"
   ]
  },
  {
   "cell_type": "code",
   "execution_count": null,
   "id": "f8c70f29-c0ee-4085-87bc-f2d9f281083d",
   "metadata": {},
   "outputs": [],
   "source": []
  }
 ],
 "metadata": {
  "kernelspec": {
   "display_name": "Python 3 (ipykernel)",
   "language": "python",
   "name": "python3"
  },
  "language_info": {
   "codemirror_mode": {
    "name": "ipython",
    "version": 3
   },
   "file_extension": ".py",
   "mimetype": "text/x-python",
   "name": "python",
   "nbconvert_exporter": "python",
   "pygments_lexer": "ipython3",
   "version": "3.12.7"
  }
 },
 "nbformat": 4,
 "nbformat_minor": 5
}
